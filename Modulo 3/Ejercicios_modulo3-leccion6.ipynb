{
 "cells": [
  {
   "cell_type": "code",
   "execution_count": 1,
   "metadata": {},
   "outputs": [],
   "source": [
    "# importamos las librerías que necesitamos\n",
    "\n",
    "# Tratamiento de datos\n",
    "# -----------------------------------------------------------------------\n",
    "import pandas as pd\n",
    "import numpy as np\n",
    "\n",
    "# Imputación de nulos usando métodos avanzados estadísticos\n",
    "# -----------------------------------------------------------------------\n",
    "from sklearn.impute import SimpleImputer\n",
    "from sklearn.experimental import enable_iterative_imputer\n",
    "from sklearn.impute import IterativeImputer\n",
    "from sklearn.impute import KNNImputer\n",
    "\n",
    "# Librerías de visualización\n",
    "# -----------------------------------------------------------------------\n",
    "import seaborn as sns\n",
    "import matplotlib.pyplot as plt\n",
    "# Configuración\n",
    "# -----------------------------------------------------------------------\n",
    "pd.set_option('display.max_columns', None) # para poder visualizar todas las columnas de los DataFrames"
   ]
  },
  {
   "cell_type": "markdown",
   "metadata": {},
   "source": [
    "**Ejercicios**\n",
    "1. Cargad el csv."
   ]
  },
  {
   "cell_type": "code",
   "execution_count": 2,
   "metadata": {},
   "outputs": [
    {
     "data": {
      "text/html": [
       "<div>\n",
       "<style scoped>\n",
       "    .dataframe tbody tr th:only-of-type {\n",
       "        vertical-align: middle;\n",
       "    }\n",
       "\n",
       "    .dataframe tbody tr th {\n",
       "        vertical-align: top;\n",
       "    }\n",
       "\n",
       "    .dataframe thead th {\n",
       "        text-align: right;\n",
       "    }\n",
       "</style>\n",
       "<table border=\"1\" class=\"dataframe\">\n",
       "  <thead>\n",
       "    <tr style=\"text-align: right;\">\n",
       "      <th></th>\n",
       "      <th>title</th>\n",
       "      <th>price</th>\n",
       "      <th>retail_price</th>\n",
       "      <th>units_sold</th>\n",
       "      <th>uses_ad_boosts</th>\n",
       "      <th>rating_sold</th>\n",
       "      <th>rating_count</th>\n",
       "      <th>rating_five_count</th>\n",
       "      <th>rating_four_count</th>\n",
       "      <th>rating_three_count</th>\n",
       "      <th>rating_two_count</th>\n",
       "      <th>rating_one_count</th>\n",
       "      <th>badge_local_product</th>\n",
       "      <th>badge_product_quality</th>\n",
       "      <th>badge_fast_shipping</th>\n",
       "      <th>tags</th>\n",
       "      <th>product_color</th>\n",
       "      <th>product_variation_size_id</th>\n",
       "      <th>shipping_option_name</th>\n",
       "      <th>shipping_option_price</th>\n",
       "      <th>shipping_is_express</th>\n",
       "      <th>countries_shipped_to</th>\n",
       "      <th>inventory_total</th>\n",
       "      <th>origin_country</th>\n",
       "      <th>merchant_name</th>\n",
       "      <th>merchant_info_subtitle</th>\n",
       "      <th>merchant_rating_count</th>\n",
       "      <th>merchant_id</th>\n",
       "      <th>product_url</th>\n",
       "      <th>product_id</th>\n",
       "      <th>listed_products</th>\n",
       "      <th>total_units_sold</th>\n",
       "      <th>mean_units_sold_per_product</th>\n",
       "      <th>rating_employee</th>\n",
       "      <th>merchant_ratings_count</th>\n",
       "      <th>mean_product_prices</th>\n",
       "      <th>mean_retail_prices</th>\n",
       "      <th>mean_product_ratings_count</th>\n",
       "      <th>discount_percentage</th>\n",
       "      <th>seller_reputation</th>\n",
       "    </tr>\n",
       "  </thead>\n",
       "  <tbody>\n",
       "    <tr>\n",
       "      <th>0</th>\n",
       "      <td>2020 Summer Vintage Flamingo Print  Pajamas Se...</td>\n",
       "      <td>16.0</td>\n",
       "      <td>14</td>\n",
       "      <td>100</td>\n",
       "      <td>No</td>\n",
       "      <td>3.76</td>\n",
       "      <td>54</td>\n",
       "      <td>26.0</td>\n",
       "      <td>8.0</td>\n",
       "      <td>10.0</td>\n",
       "      <td>1.0</td>\n",
       "      <td>9.0</td>\n",
       "      <td>No</td>\n",
       "      <td>Buena</td>\n",
       "      <td>No</td>\n",
       "      <td>Summer,Fashion,womenunderwearsuit,printedpajam...</td>\n",
       "      <td>white</td>\n",
       "      <td>M</td>\n",
       "      <td>Livraison standard</td>\n",
       "      <td>4</td>\n",
       "      <td>No</td>\n",
       "      <td>34</td>\n",
       "      <td>50</td>\n",
       "      <td>CN</td>\n",
       "      <td>zgrdejia</td>\n",
       "      <td>NaN</td>\n",
       "      <td>568</td>\n",
       "      <td>595097d6a26f6e070cb878d1</td>\n",
       "      <td>https://www.wish.com/c/5e9ae51d43d6a96e303acdb0</td>\n",
       "      <td>5e9ae51d43d6a96e303acdb0</td>\n",
       "      <td>1</td>\n",
       "      <td>100</td>\n",
       "      <td>100.0</td>\n",
       "      <td>4.129</td>\n",
       "      <td>568.0</td>\n",
       "      <td>16.0</td>\n",
       "      <td>14.0</td>\n",
       "      <td>54.0</td>\n",
       "      <td>14.29</td>\n",
       "      <td>Buena</td>\n",
       "    </tr>\n",
       "  </tbody>\n",
       "</table>\n",
       "</div>"
      ],
      "text/plain": [
       "                                               title  price  retail_price  \\\n",
       "0  2020 Summer Vintage Flamingo Print  Pajamas Se...   16.0            14   \n",
       "\n",
       "   units_sold uses_ad_boosts  rating_sold  rating_count  rating_five_count  \\\n",
       "0         100             No         3.76            54               26.0   \n",
       "\n",
       "   rating_four_count  rating_three_count  rating_two_count  rating_one_count  \\\n",
       "0                8.0                10.0               1.0               9.0   \n",
       "\n",
       "  badge_local_product badge_product_quality badge_fast_shipping  \\\n",
       "0                  No                 Buena                  No   \n",
       "\n",
       "                                                tags product_color  \\\n",
       "0  Summer,Fashion,womenunderwearsuit,printedpajam...         white   \n",
       "\n",
       "  product_variation_size_id shipping_option_name  shipping_option_price  \\\n",
       "0                         M   Livraison standard                      4   \n",
       "\n",
       "  shipping_is_express  countries_shipped_to  inventory_total origin_country  \\\n",
       "0                  No                    34               50             CN   \n",
       "\n",
       "  merchant_name merchant_info_subtitle  merchant_rating_count  \\\n",
       "0      zgrdejia                    NaN                    568   \n",
       "\n",
       "                merchant_id                                      product_url  \\\n",
       "0  595097d6a26f6e070cb878d1  https://www.wish.com/c/5e9ae51d43d6a96e303acdb0   \n",
       "\n",
       "                 product_id  listed_products  total_units_sold  \\\n",
       "0  5e9ae51d43d6a96e303acdb0                1               100   \n",
       "\n",
       "   mean_units_sold_per_product  rating_employee  merchant_ratings_count  \\\n",
       "0                        100.0            4.129                   568.0   \n",
       "\n",
       "   mean_product_prices  mean_retail_prices  mean_product_ratings_count  \\\n",
       "0                 16.0                14.0                        54.0   \n",
       "\n",
       "   discount_percentage seller_reputation  \n",
       "0                14.29             Buena  "
      ]
     },
     "execution_count": 2,
     "metadata": {},
     "output_type": "execute_result"
    }
   ],
   "source": [
    "df = pd.read_csv(\"merchant_ejercicios_apply.csv\", index_col = 0)\n",
    "df.head(1)"
   ]
  },
  {
   "cell_type": "markdown",
   "metadata": {},
   "source": [
    "2. ¿Qué columnas tienen nulos?"
   ]
  },
  {
   "cell_type": "code",
   "execution_count": 6,
   "metadata": {},
   "outputs": [
    {
     "data": {
      "text/plain": [
       "title                           0.000000\n",
       "price                           0.000000\n",
       "retail_price                    0.000000\n",
       "units_sold                      0.000000\n",
       "uses_ad_boosts                  0.000000\n",
       "rating_sold                     0.000000\n",
       "rating_count                    0.000000\n",
       "rating_five_count               2.860776\n",
       "rating_four_count               2.860776\n",
       "rating_three_count              2.860776\n",
       "rating_two_count                2.860776\n",
       "rating_one_count                2.860776\n",
       "badge_local_product             0.000000\n",
       "badge_product_quality           0.000000\n",
       "badge_fast_shipping             0.000000\n",
       "tags                            0.000000\n",
       "product_color                   2.606484\n",
       "product_variation_size_id       0.890019\n",
       "shipping_option_name            0.000000\n",
       "shipping_option_price           0.000000\n",
       "shipping_is_express             0.000000\n",
       "countries_shipped_to            0.000000\n",
       "inventory_total                 0.000000\n",
       "origin_country                  1.080737\n",
       "merchant_name                   0.254291\n",
       "merchant_info_subtitle         18.690401\n",
       "merchant_rating_count           0.000000\n",
       "merchant_id                     0.000000\n",
       "product_url                     0.000000\n",
       "product_id                      0.000000\n",
       "listed_products                 0.000000\n",
       "total_units_sold                0.000000\n",
       "mean_units_sold_per_product     0.000000\n",
       "rating_employee                 0.000000\n",
       "merchant_ratings_count          0.000000\n",
       "mean_product_prices             0.000000\n",
       "mean_retail_prices              0.000000\n",
       "mean_product_ratings_count      0.000000\n",
       "discount_percentage             0.000000\n",
       "seller_reputation               0.000000\n",
       "dtype: float64"
      ]
     },
     "execution_count": 6,
     "metadata": {},
     "output_type": "execute_result"
    }
   ],
   "source": [
    "porc_nulos = (df.isnull().sum()/df.shape[0])*100\n",
    "# Dividimos el total de valores nulos entre el numero total de datos para cada columna, para sacar el porcentaje\n",
    "porc_nulos"
   ]
  },
  {
   "cell_type": "markdown",
   "metadata": {},
   "source": [
    "3. Explorad los nulos que hay en el DataFrame."
   ]
  },
  {
   "cell_type": "code",
   "execution_count": 7,
   "metadata": {},
   "outputs": [
    {
     "data": {
      "text/html": [
       "<div>\n",
       "<style scoped>\n",
       "    .dataframe tbody tr th:only-of-type {\n",
       "        vertical-align: middle;\n",
       "    }\n",
       "\n",
       "    .dataframe tbody tr th {\n",
       "        vertical-align: top;\n",
       "    }\n",
       "\n",
       "    .dataframe thead th {\n",
       "        text-align: right;\n",
       "    }\n",
       "</style>\n",
       "<table border=\"1\" class=\"dataframe\">\n",
       "  <thead>\n",
       "    <tr style=\"text-align: right;\">\n",
       "      <th></th>\n",
       "      <th>%_nulos</th>\n",
       "    </tr>\n",
       "  </thead>\n",
       "  <tbody>\n",
       "    <tr>\n",
       "      <th>rating_five_count</th>\n",
       "      <td>2.860776</td>\n",
       "    </tr>\n",
       "    <tr>\n",
       "      <th>rating_four_count</th>\n",
       "      <td>2.860776</td>\n",
       "    </tr>\n",
       "    <tr>\n",
       "      <th>rating_three_count</th>\n",
       "      <td>2.860776</td>\n",
       "    </tr>\n",
       "    <tr>\n",
       "      <th>rating_two_count</th>\n",
       "      <td>2.860776</td>\n",
       "    </tr>\n",
       "    <tr>\n",
       "      <th>rating_one_count</th>\n",
       "      <td>2.860776</td>\n",
       "    </tr>\n",
       "    <tr>\n",
       "      <th>product_color</th>\n",
       "      <td>2.606484</td>\n",
       "    </tr>\n",
       "    <tr>\n",
       "      <th>product_variation_size_id</th>\n",
       "      <td>0.890019</td>\n",
       "    </tr>\n",
       "    <tr>\n",
       "      <th>origin_country</th>\n",
       "      <td>1.080737</td>\n",
       "    </tr>\n",
       "    <tr>\n",
       "      <th>merchant_name</th>\n",
       "      <td>0.254291</td>\n",
       "    </tr>\n",
       "    <tr>\n",
       "      <th>merchant_info_subtitle</th>\n",
       "      <td>18.690401</td>\n",
       "    </tr>\n",
       "  </tbody>\n",
       "</table>\n",
       "</div>"
      ],
      "text/plain": [
       "                             %_nulos\n",
       "rating_five_count           2.860776\n",
       "rating_four_count           2.860776\n",
       "rating_three_count          2.860776\n",
       "rating_two_count            2.860776\n",
       "rating_one_count            2.860776\n",
       "product_color               2.606484\n",
       "product_variation_size_id   0.890019\n",
       "origin_country              1.080737\n",
       "merchant_name               0.254291\n",
       "merchant_info_subtitle     18.690401"
      ]
     },
     "execution_count": 7,
     "metadata": {},
     "output_type": "execute_result"
    }
   ],
   "source": [
    "# lo convertimos en DataFrame, creando una nueva columna % nulos\n",
    "df_nulos = pd.DataFrame(porc_nulos, columns = [\"%_nulos\"])\n",
    "# y lo filtramos para que solo nos aparezcan los valores que tienen nulos\n",
    "df_nulos[df_nulos['%_nulos'] > 0]"
   ]
  },
  {
   "cell_type": "markdown",
   "metadata": {},
   "source": [
    "4. Con lo aprendido en la lección de hoy gestiona los nulos de la forma que consideres más correcta."
   ]
  },
  {
   "cell_type": "code",
   "execution_count": 8,
   "metadata": {},
   "outputs": [
    {
     "name": "stdout",
     "output_type": "stream",
     "text": [
      "Las columnas categóricas que tienen nulos son : \n",
      " \n",
      "Index(['product_color', 'product_variation_size_id', 'origin_country',\n",
      "       'merchant_name', 'merchant_info_subtitle'],\n",
      "      dtype='object')\n"
     ]
    }
   ],
   "source": [
    "# Sacamos una lista de las categóricas que tienen nulos\n",
    "nulos_esta_cat = df[df.columns[df.isnull().any()]].select_dtypes(include = \"O\").columns\n",
    "print(\"Las columnas categóricas que tienen nulos son : \\n \")\n",
    "print(nulos_esta_cat)"
   ]
  },
  {
   "cell_type": "code",
   "execution_count": 13,
   "metadata": {},
   "outputs": [
    {
     "name": "stdout",
     "output_type": "stream",
     "text": [
      "La distribución de las categorías para la columna PRODUCT_COLOR\n"
     ]
    },
    {
     "data": {
      "text/plain": [
       "product_color\n",
       "black               19.198983\n",
       "white               16.147489\n",
       "yellow               6.675143\n",
       "pink                 6.293706\n",
       "blue                 6.293706\n",
       "                      ...    \n",
       "red & blue           0.063573\n",
       "winered & yellow     0.063573\n",
       "claret               0.063573\n",
       "lightpurple          0.063573\n",
       "gold                 0.063573\n",
       "Name: count, Length: 101, dtype: float64"
      ]
     },
     "metadata": {},
     "output_type": "display_data"
    },
    {
     "name": "stdout",
     "output_type": "stream",
     "text": [
      "........................\n",
      "La distribución de las categorías para la columna PRODUCT_VARIATION_SIZE_ID\n"
     ]
    },
    {
     "data": {
      "text/plain": [
       "product_variation_size_id\n",
       "S            40.750159\n",
       "XS           22.631914\n",
       "M            12.714558\n",
       "XXS           6.357279\n",
       "L             3.115067\n",
       "               ...    \n",
       "White         0.063573\n",
       "32/L          0.063573\n",
       "Size XXS      0.063573\n",
       "Pack of 1     0.063573\n",
       "SIZE S        0.063573\n",
       "Name: count, Length: 106, dtype: float64"
      ]
     },
     "metadata": {},
     "output_type": "display_data"
    },
    {
     "name": "stdout",
     "output_type": "stream",
     "text": [
      "........................\n",
      "La distribución de las categorías para la columna ORIGIN_COUNTRY\n"
     ]
    },
    {
     "data": {
      "text/plain": [
       "origin_country\n",
       "CN    96.376351\n",
       "US     1.970757\n",
       "VE     0.317864\n",
       "SG     0.127146\n",
       "AT     0.063573\n",
       "GB     0.063573\n",
       "Name: count, dtype: float64"
      ]
     },
     "metadata": {},
     "output_type": "display_data"
    },
    {
     "name": "stdout",
     "output_type": "stream",
     "text": [
      "........................\n",
      "La distribución de las categorías para la columna MERCHANT_NAME\n"
     ]
    },
    {
     "data": {
      "text/plain": [
       "merchant_name\n",
       "广州唯适唯服饰有限公司                              0.953592\n",
       "greatexpectationstechnology              0.762873\n",
       "sjhdstoer                                0.572155\n",
       "shuilingjiaointernationaltradecompany    0.508582\n",
       "sangboostore                             0.508582\n",
       "                                           ...   \n",
       "asmalltwistofsweetfruit                  0.063573\n",
       "supumawallsticker                        0.063573\n",
       "haoyouduooo                              0.063573\n",
       "successed                                0.063573\n",
       "aishoppingmall                           0.063573\n",
       "Name: count, Length: 957, dtype: float64"
      ]
     },
     "metadata": {},
     "output_type": "display_data"
    },
    {
     "name": "stdout",
     "output_type": "stream",
     "text": [
      "........................\n",
      "La distribución de las categorías para la columna MERCHANT_INFO_SUBTITLE\n"
     ]
    },
    {
     "data": {
      "text/plain": [
       "merchant_info_subtitle\n",
       "86 % avis positifs         8.582327\n",
       "85 % avis positifs         8.264463\n",
       "87 % avis positifs         6.802289\n",
       "88 % avis positifs         6.611570\n",
       "84 % avis positifs         6.484425\n",
       "                             ...   \n",
       "83% Positives Feedback     0.063573\n",
       "61 % avis positifs         0.063573\n",
       "84% ردود فعل إيجابية       0.063573\n",
       "56 % avis positifs         0.063573\n",
       "84% Positive Feedback      0.063573\n",
       "Name: count, Length: 73, dtype: float64"
      ]
     },
     "metadata": {},
     "output_type": "display_data"
    },
    {
     "name": "stdout",
     "output_type": "stream",
     "text": [
      "........................\n"
     ]
    }
   ],
   "source": [
    "# sacamos el 'value_counts()'(contamos los valores únicos y los comparamos al total de valores) de cada una de las columnas categóricas que tienen nulos para saber como es la distribución de sus categorías\n",
    "for col in nulos_esta_cat:\n",
    "    print(f\"La distribución de las categorías para la columna {col.upper()}\")\n",
    "    display(df[col].value_counts() / df.shape[0]*100)  # display es una función utilizada para mostrar objetos de manera más legible en Jupyter Notebooks o entornos similares. \n",
    "    print(\"........................\")"
   ]
  },
  {
   "cell_type": "code",
   "execution_count": null,
   "metadata": {},
   "outputs": [],
   "source": [
    "# PRODUCT_COLOR\n",
    "# Tiene un \t2.606484% de nulos\n",
    "# Los datos que mas se repiten son: (%)\n",
    "#       black               19.198983 \n",
    "#       white               16.147489\n",
    "#       yellow               6.675143\n",
    "#*****************know***********************\n"
   ]
  },
  {
   "cell_type": "code",
   "execution_count": null,
   "metadata": {},
   "outputs": [],
   "source": [
    "# PRODUCT_VARIATION_SIZE_ID\n",
    "# Tiene un \t0.890019% de nulos\n",
    "# Los datos que mas se repiten son:(%)\n",
    "#      S            40.750159 \n",
    "#      XS           22.631914 \n",
    "#      M            12.714558 \n",
    "#**********************moda*****************"
   ]
  },
  {
   "cell_type": "code",
   "execution_count": null,
   "metadata": {},
   "outputs": [],
   "source": [
    "# ORIGIN_COUNTRY\n",
    "# Tiene un \t1.080737% de nulos\n",
    "# Los datos que mas se repiten son:(%)\n",
    "#       CN    96.376351 \n",
    "#       US     1.970757\n",
    "#       VE     0.317864\n",
    "#*************** moda"
   ]
  },
  {
   "cell_type": "code",
   "execution_count": null,
   "metadata": {},
   "outputs": [],
   "source": [
    "# MERCHANT_NAME\n",
    "# Tiene un \t0.254291 % de nulos\n",
    "# Los datos que mas se repiten son:(%)\n",
    "#       广州唯适唯服饰有限公司                     0.953592\n",
    "#       greatexpectationstechnology              0.762873\n",
    "#       sjhdstoer                                0.572155\n",
    "#       shuilingjiaointernationaltradecompany    0.508582\n",
    "#       sangboostore                             0.508582\n",
    "#*****************know***********************"
   ]
  },
  {
   "cell_type": "code",
   "execution_count": null,
   "metadata": {},
   "outputs": [],
   "source": [
    "# MERCHANT_INFO_SUBTITLE\n",
    "# Tiene un \t18.690401 % de nulos\n",
    "# Los datos que mas se repiten son:(%)\n",
    "#       86 % avis positifs         8.582327\n",
    "#       85 % avis positifs         8.264463\n",
    "#       87 % avis positifs         6.802289\n",
    "#       88 % avis positifs         6.611570\n",
    "#       84 % avis positifs         6.484425\n",
    "#*****************know***********************"
   ]
  },
  {
   "cell_type": "code",
   "execution_count": 17,
   "metadata": {},
   "outputs": [],
   "source": [
    "columnas_moda = ['product_variation_size_id', 'origin_country']\n",
    "columnas_desconocido =['product_color', 'merchant_name' ,'merchant_info_subtitle']"
   ]
  },
  {
   "cell_type": "code",
   "execution_count": 16,
   "metadata": {},
   "outputs": [
    {
     "name": "stdout",
     "output_type": "stream",
     "text": [
      "Después del reemplazo usando 'fillna' quedan los siguientes nulos\n"
     ]
    },
    {
     "data": {
      "text/plain": [
       "product_variation_size_id    0\n",
       "origin_country               0\n",
       "dtype: int64"
      ]
     },
     "execution_count": 16,
     "metadata": {},
     "output_type": "execute_result"
    }
   ],
   "source": [
    "# hacemos el reemplazo por moda\n",
    "# iteramos por la lista creada en el paso anterior:\n",
    "for columna in columnas_moda:\n",
    "    \n",
    "    # calculamos la moda para la columna por la que estamos iterando\n",
    "    moda = df[columna].mode()[0]    \n",
    "    \n",
    "    # utilizando el método fillna reemplazamos los valores nulos por la moda calculada en el paso anterior. \n",
    "    df[columna] = df[columna].fillna(moda)\n",
    "\n",
    "# por último chequeamos si se han eliminado los nulos en las columnas de \"marital\" y \"loan\"\n",
    "print(\"Después del reemplazo usando 'fillna' quedan los siguientes nulos\")\n",
    "\n",
    "df[columnas_moda].isnull().sum()"
   ]
  },
  {
   "cell_type": "code",
   "execution_count": 18,
   "metadata": {},
   "outputs": [
    {
     "name": "stdout",
     "output_type": "stream",
     "text": [
      "Después del reemplazo usando 'fillna' quedan los siguientes nulos\n"
     ]
    },
    {
     "data": {
      "text/plain": [
       "product_color             0\n",
       "merchant_name             0\n",
       "merchant_info_subtitle    0\n",
       "dtype: int64"
      ]
     },
     "execution_count": 18,
     "metadata": {},
     "output_type": "execute_result"
    }
   ],
   "source": [
    "# hacemos el reemplazo por know\n",
    "# iteramos por la lista de columnas a las que le vamos a cambiar los nulos por \"Uknown\"\n",
    "for columna in columnas_desconocido:\n",
    "    \n",
    "    # reemplazamos los nulos por el valor Unknown para cada una de las columnas de la lista\n",
    "    df[columna] = df[columna].fillna(\"Unknown\")\n",
    "    \n",
    "# comprobamos si quedan nulos en las columnas categóricas. \n",
    "print(\"Después del reemplazo usando 'fillna' quedan los siguientes nulos\")\n",
    "df[columnas_desconocido].isnull().sum()"
   ]
  },
  {
   "cell_type": "code",
   "execution_count": 19,
   "metadata": {},
   "outputs": [
    {
     "name": "stdout",
     "output_type": "stream",
     "text": [
      "Las columnas numéricas que tienen nulos son : \n",
      " \n",
      "Index(['rating_five_count', 'rating_four_count', 'rating_three_count',\n",
      "       'rating_two_count', 'rating_one_count'],\n",
      "      dtype='object')\n"
     ]
    }
   ],
   "source": [
    "# Obtenemos la lista de columnas numericas que tienen nulos\n",
    "nulos_esta_num = df[df.columns[df.isnull().any()]].select_dtypes(include = np.number).columns\n",
    "print(\"Las columnas numéricas que tienen nulos son : \\n \")\n",
    "print(nulos_esta_num)"
   ]
  },
  {
   "cell_type": "code",
   "execution_count": null,
   "metadata": {},
   "outputs": [
    {
     "data": {
      "text/plain": [
       "rating_five_count     2.860776\n",
       "rating_four_count     2.860776\n",
       "rating_three_count    2.860776\n",
       "rating_two_count      2.860776\n",
       "rating_one_count      2.860776\n",
       "dtype: float64"
      ]
     },
     "execution_count": 21,
     "metadata": {},
     "output_type": "execute_result"
    }
   ],
   "source": [
    "# lo primero que vamos a hacer es calcular % el número de nulos que tenemos en cada una de las columnas numericas\n",
    "df[nulos_esta_num].isnull().sum() / df.shape[0]*100"
   ]
  },
  {
   "cell_type": "code",
   "execution_count": null,
   "metadata": {},
   "outputs": [
    {
     "data": {
      "image/png": "[encoded data removed]",
      "text/plain": [
       "<Figure size 2000x1000 with 5 Axes>"
      ]
     },
     "metadata": {},
     "output_type": "display_data"
    }
   ],
   "source": [
    "# Ver si tenemos valores atípicos (outliers)\n",
    "fig, axes = plt.subplots(nrows = 2, ncols = 3, figsize = (20,10)) \n",
    "\n",
    "axes = axes.flat\n",
    "\n",
    "for indice, col in enumerate(nulos_esta_num):\n",
    "    sns.boxplot(x = col, data = df, ax = axes[indice])\n",
    "    \n",
    "plt.tight_layout()\n",
    "fig.delaxes(axes[-1]);"
   ]
  },
  {
   "cell_type": "code",
   "execution_count": 23,
   "metadata": {},
   "outputs": [
    {
     "data": {
      "text/html": [
       "<div>\n",
       "<style scoped>\n",
       "    .dataframe tbody tr th:only-of-type {\n",
       "        vertical-align: middle;\n",
       "    }\n",
       "\n",
       "    .dataframe tbody tr th {\n",
       "        vertical-align: top;\n",
       "    }\n",
       "\n",
       "    .dataframe thead th {\n",
       "        text-align: right;\n",
       "    }\n",
       "</style>\n",
       "<table border=\"1\" class=\"dataframe\">\n",
       "  <thead>\n",
       "    <tr style=\"text-align: right;\">\n",
       "      <th></th>\n",
       "      <th>title</th>\n",
       "      <th>price</th>\n",
       "      <th>retail_price</th>\n",
       "      <th>units_sold</th>\n",
       "      <th>uses_ad_boosts</th>\n",
       "      <th>rating_sold</th>\n",
       "      <th>rating_count</th>\n",
       "      <th>rating_five_count</th>\n",
       "      <th>rating_four_count</th>\n",
       "      <th>rating_three_count</th>\n",
       "      <th>rating_two_count</th>\n",
       "      <th>rating_one_count</th>\n",
       "      <th>badge_local_product</th>\n",
       "      <th>badge_product_quality</th>\n",
       "      <th>badge_fast_shipping</th>\n",
       "      <th>tags</th>\n",
       "      <th>product_color</th>\n",
       "      <th>product_variation_size_id</th>\n",
       "      <th>shipping_option_name</th>\n",
       "      <th>shipping_option_price</th>\n",
       "      <th>shipping_is_express</th>\n",
       "      <th>countries_shipped_to</th>\n",
       "      <th>inventory_total</th>\n",
       "      <th>origin_country</th>\n",
       "      <th>merchant_name</th>\n",
       "      <th>merchant_info_subtitle</th>\n",
       "      <th>merchant_rating_count</th>\n",
       "      <th>merchant_id</th>\n",
       "      <th>product_url</th>\n",
       "      <th>product_id</th>\n",
       "      <th>listed_products</th>\n",
       "      <th>total_units_sold</th>\n",
       "      <th>mean_units_sold_per_product</th>\n",
       "      <th>rating_employee</th>\n",
       "      <th>merchant_ratings_count</th>\n",
       "      <th>mean_product_prices</th>\n",
       "      <th>mean_retail_prices</th>\n",
       "      <th>mean_product_ratings_count</th>\n",
       "      <th>discount_percentage</th>\n",
       "      <th>seller_reputation</th>\n",
       "    </tr>\n",
       "  </thead>\n",
       "  <tbody>\n",
       "    <tr>\n",
       "      <th>0</th>\n",
       "      <td>2020 Summer Vintage Flamingo Print  Pajamas Se...</td>\n",
       "      <td>16.0</td>\n",
       "      <td>14</td>\n",
       "      <td>100</td>\n",
       "      <td>No</td>\n",
       "      <td>3.76</td>\n",
       "      <td>54</td>\n",
       "      <td>26.0</td>\n",
       "      <td>8.0</td>\n",
       "      <td>10.0</td>\n",
       "      <td>1.0</td>\n",
       "      <td>9.0</td>\n",
       "      <td>No</td>\n",
       "      <td>Buena</td>\n",
       "      <td>No</td>\n",
       "      <td>Summer,Fashion,womenunderwearsuit,printedpajam...</td>\n",
       "      <td>white</td>\n",
       "      <td>M</td>\n",
       "      <td>Livraison standard</td>\n",
       "      <td>4</td>\n",
       "      <td>No</td>\n",
       "      <td>34</td>\n",
       "      <td>50</td>\n",
       "      <td>CN</td>\n",
       "      <td>zgrdejia</td>\n",
       "      <td>Unknown</td>\n",
       "      <td>568</td>\n",
       "      <td>595097d6a26f6e070cb878d1</td>\n",
       "      <td>https://www.wish.com/c/5e9ae51d43d6a96e303acdb0</td>\n",
       "      <td>5e9ae51d43d6a96e303acdb0</td>\n",
       "      <td>1</td>\n",
       "      <td>100</td>\n",
       "      <td>100.0</td>\n",
       "      <td>4.129</td>\n",
       "      <td>568.0</td>\n",
       "      <td>16.0</td>\n",
       "      <td>14.0</td>\n",
       "      <td>54.0</td>\n",
       "      <td>14.29</td>\n",
       "      <td>Buena</td>\n",
       "    </tr>\n",
       "  </tbody>\n",
       "</table>\n",
       "</div>"
      ],
      "text/plain": [
       "                                               title  price  retail_price  \\\n",
       "0  2020 Summer Vintage Flamingo Print  Pajamas Se...   16.0            14   \n",
       "\n",
       "   units_sold uses_ad_boosts  rating_sold  rating_count  rating_five_count  \\\n",
       "0         100             No         3.76            54               26.0   \n",
       "\n",
       "   rating_four_count  rating_three_count  rating_two_count  rating_one_count  \\\n",
       "0                8.0                10.0               1.0               9.0   \n",
       "\n",
       "  badge_local_product badge_product_quality badge_fast_shipping  \\\n",
       "0                  No                 Buena                  No   \n",
       "\n",
       "                                                tags product_color  \\\n",
       "0  Summer,Fashion,womenunderwearsuit,printedpajam...         white   \n",
       "\n",
       "  product_variation_size_id shipping_option_name  shipping_option_price  \\\n",
       "0                         M   Livraison standard                      4   \n",
       "\n",
       "  shipping_is_express  countries_shipped_to  inventory_total origin_country  \\\n",
       "0                  No                    34               50             CN   \n",
       "\n",
       "  merchant_name merchant_info_subtitle  merchant_rating_count  \\\n",
       "0      zgrdejia                Unknown                    568   \n",
       "\n",
       "                merchant_id                                      product_url  \\\n",
       "0  595097d6a26f6e070cb878d1  https://www.wish.com/c/5e9ae51d43d6a96e303acdb0   \n",
       "\n",
       "                 product_id  listed_products  total_units_sold  \\\n",
       "0  5e9ae51d43d6a96e303acdb0                1               100   \n",
       "\n",
       "   mean_units_sold_per_product  rating_employee  merchant_ratings_count  \\\n",
       "0                        100.0            4.129                   568.0   \n",
       "\n",
       "   mean_product_prices  mean_retail_prices  mean_product_ratings_count  \\\n",
       "0                 16.0                14.0                        54.0   \n",
       "\n",
       "   discount_percentage seller_reputation  \n",
       "0                14.29             Buena  "
      ]
     },
     "execution_count": 23,
     "metadata": {},
     "output_type": "execute_result"
    }
   ],
   "source": [
    "# Creamos una copia del DataFrame usando copy()\n",
    "df_copia = df.copy()\n",
    "df_copia.head(1)"
   ]
  },
  {
   "cell_type": "code",
   "execution_count": 24,
   "metadata": {},
   "outputs": [
    {
     "data": {
      "text/plain": [
       "array([[2.600e+01, 8.000e+00, 1.000e+01],\n",
       "       [2.269e+03, 1.027e+03, 1.118e+03],\n",
       "       [4.300e+01, 1.800e+01, 2.300e+01],\n",
       "       ...,\n",
       "       [2.800e+01, 1.100e+01, 7.000e+00],\n",
       "       [2.400e+01, 1.500e+01, 8.000e+00],\n",
       "       [8.000e+00, 3.000e+00, 1.000e+00]])"
      ]
     },
     "execution_count": 24,
     "metadata": {},
     "output_type": "execute_result"
    }
   ],
   "source": [
    "# Para rating_five_count,rating_four_count, rating_three_count usamos el método InterativeImputer\n",
    "# instanciamos las clases, máx iteraciones= 20 semilla para el generador = 42 ???????????????\n",
    "imputer_iterative = IterativeImputer(max_iter = 20, random_state = 42)\n",
    "\n",
    "# ajustamos y tranformamos los datos\n",
    "imputer_iterative_imputado = imputer_iterative.fit_transform(df_copia[['rating_five_count','rating_four_count', 'rating_three_count']])\n",
    "\n",
    "# comprobamos que es lo que nos devuelve, que en este caso es un array también\n",
    "imputer_iterative_imputado"
   ]
  },
  {
   "cell_type": "code",
   "execution_count": 25,
   "metadata": {},
   "outputs": [
    {
     "name": "stdout",
     "output_type": "stream",
     "text": [
      "Después del 'Iterative' tenemos: \n",
      "rating_five_count     0\n",
      "rating_four_count     0\n",
      "rating_three_count    0\n",
      "dtype: int64 nulos\n"
     ]
    }
   ],
   "source": [
    "# Nos devuelve un array, que tendremos que sumar a nuestra copia de DF\n",
    "df_copia[['rating_five_count','rating_four_count', 'rating_three_count']] = imputer_iterative_imputado\n",
    "# comprobamos los nulos\n",
    "print(f\"Después del 'Iterative' tenemos: \\n{df_copia[['rating_five_count','rating_four_count', 'rating_three_count']].isnull().sum()} nulos\")"
   ]
  },
  {
   "cell_type": "code",
   "execution_count": 26,
   "metadata": {},
   "outputs": [
    {
     "data": {
      "text/plain": [
       "array([[1.000e+00, 9.000e+00],\n",
       "       [6.440e+02, 1.077e+03],\n",
       "       [8.000e+00, 7.000e+00],\n",
       "       ...,\n",
       "       [7.000e+00, 9.000e+00],\n",
       "       [3.000e+00, 9.000e+00],\n",
       "       [0.000e+00, 2.000e+00]])"
      ]
     },
     "execution_count": 26,
     "metadata": {},
     "output_type": "execute_result"
    }
   ],
   "source": [
    "## Las otras dos variables las hacemos con ell KNNImputer. NOTA, la ejecución de esta celda puede tardar un ratito\n",
    "\n",
    "# instanciamos la clase del KNNImputer. vecinos cercanos =5\n",
    "imputer_knn = KNNImputer(n_neighbors = 5)\n",
    "\n",
    "# ajustamos y transformamos los datos\n",
    "imputer_knn_imputado = imputer_knn.fit_transform(df_copia[['rating_two_count','rating_one_count']])\n",
    "\n",
    "# comprobamos que es lo que nos devuelve, que sigue siendo un array\n",
    "imputer_knn_imputado"
   ]
  },
  {
   "cell_type": "code",
   "execution_count": 27,
   "metadata": {},
   "outputs": [
    {
     "name": "stdout",
     "output_type": "stream",
     "text": [
      "Después del 'KNN' tenemos: \n",
      "rating_two_count    0\n",
      "rating_one_count    0\n",
      "dtype: int64 nulos\n"
     ]
    }
   ],
   "source": [
    "# por último nos queda añadir ese array al DataFrame como hemos hecho hasta ahora\n",
    "df_copia[['rating_two_count','rating_one_count']] = imputer_knn_imputado\n",
    "\n",
    "\n",
    "# comprobamos los nulos\n",
    "print(f\"Después del 'KNN' tenemos: \\n{df_copia[['rating_two_count','rating_one_count']].isnull().sum()} nulos\")"
   ]
  },
  {
   "cell_type": "markdown",
   "metadata": {},
   "source": [
    "5. Guarda el csv con las columnas sin nulos"
   ]
  },
  {
   "cell_type": "code",
   "execution_count": 29,
   "metadata": {},
   "outputs": [],
   "source": [
    "df_copia.to_csv(\"bank-additional-clean-nonulls.csv\",index=False)"
   ]
  }
 ],
 "metadata": {
  "kernelspec": {
   "display_name": "Python 3",
   "language": "python",
   "name": "python3"
  },
  "language_info": {
   "codemirror_mode": {
    "name": "ipython",
    "version": 3
   },
   "file_extension": ".py",
   "mimetype": "text/x-python",
   "name": "python",
   "nbconvert_exporter": "python",
   "pygments_lexer": "ipython3",
   "version": "undefined.undefined.undefined"
  }
 },
 "nbformat": 4,
 "nbformat_minor": 2
}
